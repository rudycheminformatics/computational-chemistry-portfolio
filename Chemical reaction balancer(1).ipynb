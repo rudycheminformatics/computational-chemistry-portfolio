{
 "cells": [
  {
   "cell_type": "code",
   "execution_count": 5,
   "id": "17e2ca6d-028c-4766-8109-1a8977464c23",
   "metadata": {},
   "outputs": [
    {
     "name": "stdout",
     "output_type": "stream",
     "text": [
      "Chemical Equation Balancer\n",
      "Enter an unbalanced reaction like: H2 + O2 -> H2O\n",
      "Type 'quit' to exit.\n"
     ]
    },
    {
     "name": "stdin",
     "output_type": "stream",
     "text": [
      "\n",
      "Enter reaction:  Fe + O2 -> Fe2O3\n"
     ]
    },
    {
     "name": "stdout",
     "output_type": "stream",
     "text": [
      "Balanced: 4 Fe + 3 O2 -> 2 Fe2O3\n"
     ]
    },
    {
     "name": "stdin",
     "output_type": "stream",
     "text": [
      "\n",
      "Enter reaction:  C2H6 + O2 -> CO2 + H2O\n"
     ]
    },
    {
     "name": "stdout",
     "output_type": "stream",
     "text": [
      "Balanced: 2 C2H6 + 7 O2 -> 4 CO2 + 6 H2O\n"
     ]
    },
    {
     "name": "stdin",
     "output_type": "stream",
     "text": [
      "\n",
      "Enter reaction:  C3H8 + O2 -> CO2 + H2O\n"
     ]
    },
    {
     "name": "stdout",
     "output_type": "stream",
     "text": [
      "Balanced: 1 C3H8 + 5 O2 -> 3 CO2 + 4 H2O\n"
     ]
    },
    {
     "name": "stdin",
     "output_type": "stream",
     "text": [
      "\n",
      "Enter reaction:  C6H6 + Cl2 -> C6H5Cl + HCl\n"
     ]
    },
    {
     "name": "stdout",
     "output_type": "stream",
     "text": [
      "Balanced: 1 C6H6 + 1 Cl2 -> 1 C6H5Cl + 1 HCl\n"
     ]
    },
    {
     "name": "stdin",
     "output_type": "stream",
     "text": [
      "\n",
      "Enter reaction:  C6H6 + HNO3 -> C6H5NO2 + H2O\n"
     ]
    },
    {
     "name": "stdout",
     "output_type": "stream",
     "text": [
      "Balanced: 1 C6H6 + 1 HNO3 -> 1 C6H5NO2 + 1 H2O\n"
     ]
    },
    {
     "name": "stdin",
     "output_type": "stream",
     "text": [
      "\n",
      "Enter reaction:  C2H5COOH + O2 -> CO2 + H2O\n"
     ]
    },
    {
     "name": "stdout",
     "output_type": "stream",
     "text": [
      "Balanced: 2 C2H5COOH + 7 O2 -> 6 CO2 + 6 H2O\n"
     ]
    },
    {
     "name": "stdin",
     "output_type": "stream",
     "text": [
      "\n",
      "Enter reaction:  C3H7OH + O2 -> CO2 + H2O\n"
     ]
    },
    {
     "name": "stdout",
     "output_type": "stream",
     "text": [
      "Balanced: 2 C3H7OH + 9 O2 -> 6 CO2 + 8 H2O\n"
     ]
    },
    {
     "name": "stdin",
     "output_type": "stream",
     "text": [
      "\n",
      "Enter reaction:  quit\n"
     ]
    }
   ],
   "source": [
    "import re\n",
    "import numpy as np\n",
    "from fractions import Fraction\n",
    "\n",
    "\n",
    "\n",
    "def parse_formula(formula):\n",
    "    \"\"\"\n",
    "    Parse a chemical formula into a dictionary of element counts.\n",
    "    Supports parentheses and multipliers, e.g., Ca(OH)2\n",
    "    \"\"\"\n",
    "    tokens = re.findall(r'([A-Z][a-z]?|\\(|\\)|\\d+)', formula)\n",
    "    stack = [{}]\n",
    "    \n",
    "    i = 0\n",
    "    while i < len(tokens):\n",
    "        token = tokens[i]\n",
    "        if token == \"(\":\n",
    "            stack.append({})\n",
    "        elif token == \")\":\n",
    "            group = stack.pop()\n",
    "            i += 1\n",
    "            multiplier = 1\n",
    "            if i < len(tokens) and tokens[i].isdigit():\n",
    "                multiplier = int(tokens[i])\n",
    "            for elem, count in group.items():\n",
    "                stack[-1][elem] = stack[-1].get(elem, 0) + count * multiplier\n",
    "        elif token.isdigit():\n",
    "            prev_elem = tokens[i-1]\n",
    "            if prev_elem not in \"()\":\n",
    "                stack[-1][prev_elem] += int(token) - 1\n",
    "        else:\n",
    "            stack[-1][token] = stack[-1].get(token, 0) + 1\n",
    "        i += 1\n",
    "    \n",
    "    return stack[0]\n",
    "\n",
    "def parse_reaction(equation):\n",
    "    \"\"\"\n",
    "    Parse a chemical reaction into lists of reactants and products.\n",
    "    \"\"\"\n",
    "    left, right = equation.split(\"->\")\n",
    "    reactants = [f.strip() for f in left.split(\"+\")]\n",
    "    products = [f.strip() for f in right.split(\"+\")]\n",
    "    return reactants, products\n",
    "\n",
    "\n",
    "\n",
    "def balance_equation(equation):\n",
    "    reactants, products = parse_reaction(equation)\n",
    "    all_molecules = reactants + products\n",
    "\n",
    "\n",
    "    elements = set()\n",
    "    for mol in all_molecules:\n",
    "        elements.update(parse_formula(mol).keys())\n",
    "    elements = list(elements)\n",
    "\n",
    "\n",
    "    matrix = []\n",
    "    for elem in elements:\n",
    "        row = []\n",
    "        for mol in reactants:\n",
    "            row.append(parse_formula(mol).get(elem, 0))\n",
    "        for mol in products:\n",
    "            row.append(-parse_formula(mol).get(elem, 0))\n",
    "        matrix.append(row)\n",
    "\n",
    "    A = np.array(matrix, dtype=float)\n",
    "\n",
    "    u, s, vh = np.linalg.svd(A)\n",
    "    null_space = np.compress(s <= 1e-10, vh, axis=0)\n",
    "    coeffs = vh[-1, :] \n",
    "    coeffs = coeffs / min(abs(coeffs[np.nonzero(coeffs)]))\n",
    "\n",
    "\n",
    "    coeffs = [Fraction(c).limit_denominator(1000) for c in coeffs]\n",
    "    lcm = np.lcm.reduce([f.denominator for f in coeffs])\n",
    "    coeffs = np.array([int(f * lcm) for f in coeffs])\n",
    "\n",
    "    gcd = np.gcd.reduce(coeffs)\n",
    "    coeffs = coeffs // gcd\n",
    "\n",
    "\n",
    "    reactant_coeffs = coeffs[:len(reactants)]\n",
    "    product_coeffs = coeffs[len(reactants):]\n",
    "\n",
    "\n",
    "    left_side = \" + \".join(f\"{reactant_coeffs[i]} {reactants[i]}\" for i in range(len(reactants)))\n",
    "    right_side = \" + \".join(f\"{product_coeffs[i]} {products[i]}\" for i in range(len(products)))\n",
    "    return f\"{left_side} -> {right_side}\"\n",
    "\n",
    "\n",
    "\n",
    "if __name__ == \"__main__\":\n",
    "    print(\"Chemical Equation Balancer\")\n",
    "    print(\"Enter an unbalanced reaction like: H2 + O2 -> H2O\")\n",
    "    print(\"Type 'quit' to exit.\")\n",
    "    \n",
    "    while True:\n",
    "        eq = input(\"\\nEnter reaction: \").strip()\n",
    "        if eq.lower() == \"quit\":\n",
    "            break\n",
    "        try:\n",
    "            balanced = balance_equation(eq)\n",
    "            print(\"Balanced:\", balanced)\n",
    "        except Exception as e:\n",
    "            print(\"Error:\", e)\n"
   ]
  },
  {
   "cell_type": "code",
   "execution_count": null,
   "id": "a41771d9-0a62-427e-99e3-987bb804240a",
   "metadata": {},
   "outputs": [],
   "source": []
  }
 ],
 "metadata": {
  "kernelspec": {
   "display_name": "Python 3 (ipykernel)",
   "language": "python",
   "name": "python3"
  },
  "language_info": {
   "codemirror_mode": {
    "name": "ipython",
    "version": 3
   },
   "file_extension": ".py",
   "mimetype": "text/x-python",
   "name": "python",
   "nbconvert_exporter": "python",
   "pygments_lexer": "ipython3",
   "version": "3.13.0"
  }
 },
 "nbformat": 4,
 "nbformat_minor": 5
}

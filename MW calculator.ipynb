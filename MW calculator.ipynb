{
 "cells": [
  {
   "cell_type": "code",
   "execution_count": 1,
   "id": "16867b52-acb6-4741-81ca-b7fa95cdf4aa",
   "metadata": {},
   "outputs": [],
   "source": [
    "import re"
   ]
  },
  {
   "cell_type": "code",
   "execution_count": null,
   "id": "71fe7c8b-dbda-4230-99b3-053dc6328c51",
   "metadata": {},
   "outputs": [
    {
     "name": "stdin",
     "output_type": "stream",
     "text": [
      "Enter chemical formula (or 'quit' to exit):  C2H2\n"
     ]
    },
    {
     "name": "stdout",
     "output_type": "stream",
     "text": [
      "Molecular weight of C2H2 = 26.036 g/mol\n"
     ]
    },
    {
     "name": "stdin",
     "output_type": "stream",
     "text": [
      "Enter chemical formula (or 'quit' to exit):  C6H6\n"
     ]
    },
    {
     "name": "stdout",
     "output_type": "stream",
     "text": [
      "Molecular weight of C6H6 = 78.108 g/mol\n"
     ]
    }
   ],
   "source": [
    "ATOMIC_WEIGHTS = {\n",
    "    \"H\": 1.008,\n",
    "    \"He\": 4.0026,\n",
    "    \"Li\": 6.94,\n",
    "    \"Be\": 9.0122,\n",
    "    \"B\": 10.81,\n",
    "    \"C\": 12.01,\n",
    "    \"N\": 14.01,\n",
    "    \"O\": 16.00,\n",
    "    \"F\": 19.00,\n",
    "    \"Ne\": 20.18,\n",
    "    \"Na\": 22.99,\n",
    "    \"Mg\": 24.31,\n",
    "    \"Al\": 26.98,\n",
    "    \"Si\": 28.09,\n",
    "    \"P\": 30.97,\n",
    "    \"S\": 32.07,\n",
    "    \"Cl\": 35.45,\n",
    "    \"K\": 39.10,\n",
    "    \"Ca\": 40.08,\n",
    "    \"Fe\": 55.85,\n",
    "    \"Cu\": 63.55,\n",
    "    \"Zn\": 65.38,\n",
    "    \"Ag\": 107.87,\n",
    "    \"I\": 126.90,\n",
    "    \"Ba\": 137.33,\n",
    "    \"Au\": 196.97,\n",
    "    \"Hg\": 200.59,\n",
    "    \"Pb\": 207.2}\n",
    "\n",
    "def parse_formula(formula):\n",
    "    \"\"\"\n",
    "    Parse a chemical formula into a dictionary of element counts.\n",
    "    Supports parentheses for groups, e.g., Ca(OH)2\n",
    "    \"\"\"\n",
    "    tokens = re.findall(r'([A-Z][a-z]?|\\(|\\)|\\d+)', formula)\n",
    "    stack = [{}]\n",
    "    \n",
    "    i = 0\n",
    "    while i < len(tokens):\n",
    "        token = tokens[i]\n",
    "        if token == \"(\":\n",
    "            stack.append({})\n",
    "        elif token == \")\":\n",
    "            group = stack.pop()\n",
    "            i += 1\n",
    "            multiplier = 1\n",
    "            if i < len(tokens) and tokens[i].isdigit():\n",
    "                multiplier = int(tokens[i])\n",
    "            for elem, count in group.items():\n",
    "                stack[-1][elem] = stack[-1].get(elem, 0) + count * multiplier\n",
    "        elif token.isdigit():\n",
    "            prev_elem = tokens[i-1]\n",
    "            if prev_elem not in \"()\":\n",
    "                stack[-1][prev_elem] += int(token) - 1  # already counted 1\n",
    "        else:  # Element\n",
    "            stack[-1][token] = stack[-1].get(token, 0) + 1\n",
    "        i += 1\n",
    "    \n",
    "    return stack[0]\n",
    "\n",
    "def molecular_weight(formula):\n",
    "    composition = parse_formula(formula)\n",
    "    weight = 0.0\n",
    "    for elem, count in composition.items():\n",
    "        if elem not in ATOMIC_WEIGHTS:\n",
    "            raise ValueError(f\"Element {elem} not in atomic weight table.\")\n",
    "        weight += ATOMIC_WEIGHTS[elem] * count\n",
    "    return weight\n",
    "\n",
    "if __name__ == \"__main__\":\n",
    "    while True:\n",
    "        formula = input(\"Enter chemical formula (or 'quit' to exit): \")\n",
    "        if formula.lower() == \"quit\":\n",
    "            break\n",
    "        try:\n",
    "            mw = molecular_weight(formula)\n",
    "            print(f\"Molecular weight of {formula} = {mw:.3f} g/mol\")\n",
    "        except Exception as e:\n",
    "            print(\"Error:\", e)\n"
   ]
  },
  {
   "cell_type": "code",
   "execution_count": null,
   "id": "0680afec-ef2a-4c7c-a690-f52bcc499da0",
   "metadata": {},
   "outputs": [],
   "source": []
  }
 ],
 "metadata": {
  "kernelspec": {
   "display_name": "Python 3 (ipykernel)",
   "language": "python",
   "name": "python3"
  },
  "language_info": {
   "codemirror_mode": {
    "name": "ipython",
    "version": 3
   },
   "file_extension": ".py",
   "mimetype": "text/x-python",
   "name": "python",
   "nbconvert_exporter": "python",
   "pygments_lexer": "ipython3",
   "version": "3.13.0"
  }
 },
 "nbformat": 4,
 "nbformat_minor": 5
}

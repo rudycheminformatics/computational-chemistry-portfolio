{
 "cells": [
  {
   "cell_type": "code",
   "execution_count": 1,
   "id": "a5b4290f-07ea-4bee-bbdb-ab8672b085b8",
   "metadata": {},
   "outputs": [
    {
     "name": "stdout",
     "output_type": "stream",
     "text": [
      "Requirement already satisfied: rdkit in c:\\users\\rudra\\miniconda3\\lib\\site-packages (2025.3.5)\n",
      "Requirement already satisfied: numpy in c:\\users\\rudra\\miniconda3\\lib\\site-packages (from rdkit) (2.3.2)\n",
      "Requirement already satisfied: Pillow in c:\\users\\rudra\\miniconda3\\lib\\site-packages (from rdkit) (11.3.0)\n"
     ]
    }
   ],
   "source": [
    "!pip install rdkit"
   ]
  },
  {
   "cell_type": "code",
   "execution_count": 2,
   "id": "771a1a0e-fe83-4156-a527-5448826813aa",
   "metadata": {},
   "outputs": [
    {
     "data": {
      "image/png": "[encoded data removed]",
      "text/plain": [
       "<IPython.core.display.Image object>"
      ]
     },
     "execution_count": 2,
     "metadata": {},
     "output_type": "execute_result"
    }
   ],
   "source": [
    "from rdkit import Chem\n",
    "Smiles_List = ['CC(=O)OC1=CC=CC=C1C(=O)O', 'C1=CC=C(C=C1)C[C@@H](C(=O)O)N', 'CC1=C(C=C(C=C1)NC(=O)C2=CC=C(C=C2)CN3CCN(CC3)C)NC4=NC=CC(=N4)C5=CN=CC=C5',\n",
    "               'CN1C=NC2=C1C(=O)N(C(=O)N2C)C', 'CCNC1=NC(=NC(=N1)Cl)NC(C)C', 'C(C(=O)O)C(=O)O']\n",
    "mol_List = []\n",
    "for Smiles in Smiles_List:\n",
    "    mol = Chem.MolFromSmiles(Smiles)\n",
    "    mol_List.append(mol)\n",
    "\n",
    "from rdkit.Chem import Draw\n",
    "img = Draw.MolsToGridImage(mol_List)\n",
    "img\n",
    "    "
   ]
  },
  {
   "cell_type": "code",
   "execution_count": 8,
   "id": "da0d3621-06ea-4aad-aa81-8ea507954a08",
   "metadata": {},
   "outputs": [
    {
     "name": "stdout",
     "output_type": "stream",
     "text": [
      "True\n",
      "True\n",
      "True\n",
      "False\n",
      "False\n",
      "False\n"
     ]
    }
   ],
   "source": [
    "substructure = Chem.MolFromSmiles('C1=CC=CC=C1')\n",
    "for mol in mol_List:\n",
    "    print(mol.HasSubstructMatch(substructure))"
   ]
  },
  {
   "cell_type": "code",
   "execution_count": 14,
   "id": "261ea8cd-a796-435b-abff-7ca08bc0dd4e",
   "metadata": {},
   "outputs": [
    {
     "name": "stdout",
     "output_type": "stream",
     "text": [
      "180.15899999999996\n"
     ]
    }
   ],
   "source": [
    "from rdkit.Chem import Descriptors\n",
    "from rdkit.Chem import rdMolDescriptors\n",
    "x = Descriptors.MolWt(mol_List[0])\n",
    "print(x)"
   ]
  },
  {
   "cell_type": "code",
   "execution_count": 15,
   "id": "0720a5d3-fb3f-429b-abd5-f91e71a43709",
   "metadata": {},
   "outputs": [
    {
     "name": "stdout",
     "output_type": "stream",
     "text": [
      "1.3101\n"
     ]
    }
   ],
   "source": [
    "y = Descriptors.MolLogP(mol_List[0])\n",
    "print(y)"
   ]
  },
  {
   "cell_type": "code",
   "execution_count": 16,
   "id": "425791b6-bf57-424d-8057-ef44b00eeb4a",
   "metadata": {},
   "outputs": [
    {
     "name": "stdout",
     "output_type": "stream",
     "text": [
      "63.60000000000001\n"
     ]
    }
   ],
   "source": [
    "z = rdMolDescriptors.CalcTPSA(mol_List[0])\n",
    "print(z)"
   ]
  },
  {
   "cell_type": "code",
   "execution_count": 17,
   "id": "1704baa7-2332-4781-a641-ad20f317bcda",
   "metadata": {},
   "outputs": [
    {
     "name": "stdout",
     "output_type": "stream",
     "text": [
      "Molecular weight for the 1st molecule: 180.15899999999996\n",
      "LogP for the 1st molecule: 1.3101\n",
      "Calculated tPSA for the 1st molecule: 63.60000000000001\n"
     ]
    }
   ],
   "source": [
    "print(f\"Molecular weight for the 1st molecule: {x}\")\n",
    "print(f\"LogP for the 1st molecule: {y}\")\n",
    "print(f\"Calculated tPSA for the 1st molecule: {z}\")"
   ]
  },
  {
   "cell_type": "code",
   "execution_count": 18,
   "id": "f959d2ac-a592-41aa-9dce-47121ddb820e",
   "metadata": {},
   "outputs": [
    {
     "name": "stdout",
     "output_type": "stream",
     "text": [
      "165.19199999999998\n"
     ]
    }
   ],
   "source": [
    "x2 = Descriptors.MolWt(mol_List[1])\n",
    "print(x2)"
   ]
  },
  {
   "cell_type": "code",
   "execution_count": 19,
   "id": "4ba8d949-4538-4c3a-9d03-19683131d7dd",
   "metadata": {},
   "outputs": [
    {
     "name": "stdout",
     "output_type": "stream",
     "text": [
      "0.641\n"
     ]
    }
   ],
   "source": [
    "y2 = Descriptors.MolLogP(mol_List[1])\n",
    "print(y2)"
   ]
  },
  {
   "cell_type": "code",
   "execution_count": 20,
   "id": "c9a8ef69-7702-4e82-bc9f-34fe283eeb01",
   "metadata": {},
   "outputs": [
    {
     "name": "stdout",
     "output_type": "stream",
     "text": [
      "63.31999999999999\n"
     ]
    }
   ],
   "source": [
    "z2 = rdMolDescriptors.CalcTPSA(mol_List[1])\n",
    "print(z2)"
   ]
  },
  {
   "cell_type": "code",
   "execution_count": 21,
   "id": "4698e6e9-eed3-435b-940e-122d8579373f",
   "metadata": {},
   "outputs": [
    {
     "name": "stdout",
     "output_type": "stream",
     "text": [
      "Molecular weight for the 2nd molecule: 165.19199999999998\n",
      "LogP for the 2nd molecule: 0.641\n",
      "Calculated tPSA for the 2nd molecule: 63.31999999999999\n"
     ]
    }
   ],
   "source": [
    "print(f\"Molecular weight for the 2nd molecule: {x2}\")\n",
    "print(f\"LogP for the 2nd molecule: {y2}\")\n",
    "print(f\"Calculated tPSA for the 2nd molecule: {z2}\")"
   ]
  },
  {
   "cell_type": "code",
   "execution_count": 22,
   "id": "4d8d801c-3bc1-4548-b8b3-ed5acd418a39",
   "metadata": {},
   "outputs": [
    {
     "name": "stdout",
     "output_type": "stream",
     "text": [
      "493.61500000000024\n"
     ]
    }
   ],
   "source": [
    "x3 = Descriptors.MolWt(mol_List[2])\n",
    "print(x3)"
   ]
  },
  {
   "cell_type": "code",
   "execution_count": 23,
   "id": "e7edd470-692a-4c90-ad70-eca67f509e2b",
   "metadata": {},
   "outputs": [
    {
     "name": "stdout",
     "output_type": "stream",
     "text": [
      "4.590320000000003\n"
     ]
    }
   ],
   "source": [
    "y3 = Descriptors.MolLogP(mol_List[2])\n",
    "print(y3)"
   ]
  },
  {
   "cell_type": "code",
   "execution_count": 24,
   "id": "7c31e4d4-02e3-4d46-a57a-244c380d2340",
   "metadata": {},
   "outputs": [
    {
     "name": "stdout",
     "output_type": "stream",
     "text": [
      "86.28000000000002\n"
     ]
    }
   ],
   "source": [
    "z3 = rdMolDescriptors.CalcTPSA(mol_List[2])\n",
    "print(z3)"
   ]
  },
  {
   "cell_type": "code",
   "execution_count": 25,
   "id": "88fa8eb0-cdad-43e6-a686-efda5cab739e",
   "metadata": {},
   "outputs": [
    {
     "name": "stdout",
     "output_type": "stream",
     "text": [
      "Molecular weight for the 3rd molecule: 493.61500000000024\n",
      "LogP for the 3rd molecule: 4.590320000000003\n",
      "Calculated tPSA for the 3rd molecule: 86.28000000000002\n"
     ]
    }
   ],
   "source": [
    "print(f\"Molecular weight for the 3rd molecule: {x3}\")\n",
    "print(f\"LogP for the 3rd molecule: {y3}\")\n",
    "print(f\"Calculated tPSA for the 3rd molecule: {z3}\")"
   ]
  },
  {
   "cell_type": "code",
   "execution_count": 26,
   "id": "35263d6f-b286-45b0-8815-7dceca245aaa",
   "metadata": {},
   "outputs": [
    {
     "name": "stdout",
     "output_type": "stream",
     "text": [
      "194.194\n"
     ]
    }
   ],
   "source": [
    "x4 = Descriptors.MolWt(mol_List[3])\n",
    "print(x4)"
   ]
  },
  {
   "cell_type": "code",
   "execution_count": 27,
   "id": "a5237d98-1917-4d39-b07a-f9c69e15ec9c",
   "metadata": {},
   "outputs": [
    {
     "name": "stdout",
     "output_type": "stream",
     "text": [
      "-1.0293\n"
     ]
    }
   ],
   "source": [
    "y4 = Descriptors.MolLogP(mol_List[3])\n",
    "print(y4)"
   ]
  },
  {
   "cell_type": "code",
   "execution_count": 28,
   "id": "6912d000-63c1-4406-9261-17d6fd10af8e",
   "metadata": {},
   "outputs": [
    {
     "name": "stdout",
     "output_type": "stream",
     "text": [
      "61.82\n"
     ]
    }
   ],
   "source": [
    "z4 = rdMolDescriptors.CalcTPSA(mol_List[3])\n",
    "print(z4)"
   ]
  },
  {
   "cell_type": "code",
   "execution_count": 29,
   "id": "3a30f54c-94bf-4a83-a351-6d1b3d4ce7e1",
   "metadata": {},
   "outputs": [
    {
     "name": "stdout",
     "output_type": "stream",
     "text": [
      "Molecular weight for the 4th molecule: 194.194\n",
      "LogP for the 4th molecule: -1.0293\n",
      "Calculated tPSA for the 4th molecule: 61.82\n"
     ]
    }
   ],
   "source": [
    "print(f\"Molecular weight for the 4th molecule: {x4}\")\n",
    "print(f\"LogP for the 4th molecule: {y4}\")\n",
    "print(f\"Calculated tPSA for the 4th molecule: {z4}\")"
   ]
  },
  {
   "cell_type": "code",
   "execution_count": 30,
   "id": "6b9c2258-4709-403d-8ed1-414f42530314",
   "metadata": {},
   "outputs": [
    {
     "name": "stdout",
     "output_type": "stream",
     "text": [
      "215.68800000000002\n"
     ]
    }
   ],
   "source": [
    "x5 = Descriptors.MolWt(mol_List[4])\n",
    "print(x5)"
   ]
  },
  {
   "cell_type": "code",
   "execution_count": 31,
   "id": "41a1403f-586b-4f09-a2eb-20db8534b97d",
   "metadata": {},
   "outputs": [
    {
     "name": "stdout",
     "output_type": "stream",
     "text": [
      "1.7770999999999997\n"
     ]
    }
   ],
   "source": [
    "y5 = Descriptors.MolLogP(mol_List[4])\n",
    "print(y5)"
   ]
  },
  {
   "cell_type": "code",
   "execution_count": 32,
   "id": "cfc19e90-5dfa-44e8-b292-6c475fadf7da",
   "metadata": {},
   "outputs": [
    {
     "name": "stdout",
     "output_type": "stream",
     "text": [
      "62.730000000000004\n"
     ]
    }
   ],
   "source": [
    "z5 = rdMolDescriptors.CalcTPSA(mol_List[4])\n",
    "print(z5)"
   ]
  },
  {
   "cell_type": "code",
   "execution_count": 33,
   "id": "04461d99-4ff9-43ee-b3ea-f8b3c1fd3856",
   "metadata": {},
   "outputs": [
    {
     "name": "stdout",
     "output_type": "stream",
     "text": [
      "Molecular weight for the 5th molecule: 215.68800000000002\n",
      "LogP for the 5th molecule: 1.7770999999999997\n",
      "Calculated tPSA for the 5th molecule: 62.730000000000004\n"
     ]
    }
   ],
   "source": [
    "print(f\"Molecular weight for the 5th molecule: {x5}\")\n",
    "print(f\"LogP for the 5th molecule: {y5}\")\n",
    "print(f\"Calculated tPSA for the 5th molecule: {z5}\")"
   ]
  },
  {
   "cell_type": "code",
   "execution_count": 34,
   "id": "b5788447-8a61-40e7-a88f-f1d91ed4df02",
   "metadata": {},
   "outputs": [
    {
     "name": "stdout",
     "output_type": "stream",
     "text": [
      "104.06099999999999\n"
     ]
    }
   ],
   "source": [
    "x6 = Descriptors.MolWt(mol_List[5])\n",
    "print(x6)"
   ]
  },
  {
   "cell_type": "code",
   "execution_count": 35,
   "id": "78aff11e-3892-449e-9772-fa31908f8231",
   "metadata": {},
   "outputs": [
    {
     "name": "stdout",
     "output_type": "stream",
     "text": [
      "-0.4543\n"
     ]
    }
   ],
   "source": [
    "y6 = Descriptors.MolLogP(mol_List[5])\n",
    "print(y6)"
   ]
  },
  {
   "cell_type": "code",
   "execution_count": 36,
   "id": "dfc9135a-1fce-49bc-9061-2177a3144fd5",
   "metadata": {},
   "outputs": [
    {
     "name": "stdout",
     "output_type": "stream",
     "text": [
      "74.6\n"
     ]
    }
   ],
   "source": [
    "z6 = rdMolDescriptors.CalcTPSA(mol_List[5])\n",
    "print(z6)"
   ]
  },
  {
   "cell_type": "code",
   "execution_count": 37,
   "id": "f8987b08-fa72-4d5a-81fb-d1d537f4d242",
   "metadata": {},
   "outputs": [
    {
     "name": "stdout",
     "output_type": "stream",
     "text": [
      "Molecular weight for the last molecule: 104.06099999999999\n",
      "LogP for the last molecule: -0.4543\n",
      "Calculated tPSA for the last molecule: 74.6\n"
     ]
    }
   ],
   "source": [
    "print(f\"Molecular weight for the last molecule: {x6}\")\n",
    "print(f\"LogP for the last molecule: {y6}\")\n",
    "print(f\"Calculated tPSA for the last molecule: {z6}\")"
   ]
  },
  {
   "cell_type": "code",
   "execution_count": null,
   "id": "239e07cd-1ba5-4170-939a-f3f6fbeeccf1",
   "metadata": {},
   "outputs": [],
   "source": []
  }
 ],
 "metadata": {
  "kernelspec": {
   "display_name": "Python 3 (ipykernel)",
   "language": "python",
   "name": "python3"
  },
  "language_info": {
   "codemirror_mode": {
    "name": "ipython",
    "version": 3
   },
   "file_extension": ".py",
   "mimetype": "text/x-python",
   "name": "python",
   "nbconvert_exporter": "python",
   "pygments_lexer": "ipython3",
   "version": "3.13.5"
  }
 },
 "nbformat": 4,
 "nbformat_minor": 5
}
